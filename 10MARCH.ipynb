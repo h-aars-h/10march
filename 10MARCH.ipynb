{
 "cells": [
  {
   "cell_type": "code",
   "execution_count": 1,
   "id": "0b66b16d-b443-42b5-8a33-d531d36eb85e",
   "metadata": {},
   "outputs": [],
   "source": [
    "# Q1: What is Estimation Statistics? Explain point estimate and interval estimate.\n",
    "# Ans 1= Estiamate: it is an observed numrical value used to estimate to unknown population parameter.\n",
    "# point estimate : single numerical value used to estimate the unknown population parameter. \n",
    "# and the sample mean is point estimate of population mean \n",
    "# Interval estimate: it is a range used to the unknowwn population parameter.\n",
    "# Interval estimate of population parameter are called  confidence intervals."
   ]
  },
  {
   "cell_type": "code",
   "execution_count": 2,
   "id": "72387a9e-9ac2-45ab-8b28-3a514fcb1ce1",
   "metadata": {},
   "outputs": [],
   "source": [
    "# Q2. Write a Python function to estimate the population mean using a sample mean and standard\n",
    "# deviation.\n",
    "# Ans 2=\n",
    "def estimate_population_mean(sample_mean, sample_std, sample_size):\n",
    "    import math\n",
    "    std_error = sample_std / math.sqrt(sample_size)\n",
    "    z_critical = 1.96 # for a 95% confidence level\n",
    "    margin_of_error = z_critical * std_error\n",
    "    lower_bound = sample_mean - margin_of_error\n",
    "    upper_bound = sample_mean + margin_of_error\n",
    "    return (lower_bound, upper_bound)\n"
   ]
  },
  {
   "cell_type": "code",
   "execution_count": 3,
   "id": "f3588ffa-99e4-4722-9bd6-9be6b09e234e",
   "metadata": {},
   "outputs": [],
   "source": [
    "# Q3: What is Hypothesis testing? Why is it used? State the importance of Hypothesis testing.\n",
    "# ANs 3 =Hypothesis testing is a statistical method that is used to determine whether a hypothesis about a population is likely to be true or not.\n",
    "# Hypothesis testing is used in a variety of fields, including scientific research, engineering, business, and social sciences. It is used to test\n",
    "# whether a new product or service is better than an existing one, whether a new medical treatment is effective, or whether a new policy or program \n",
    "# is beneficial. \n",
    "# The importance of hypothesis testing lies in its ability to help us make informed decisions based on evidence rather than assumptions or intuition.\n",
    "# By using statistical methods to test hypotheses, we can determine whether an observed difference or effect is likely to be due to chance or to a real\n",
    "# difference or effect. This allows us to draw conclusions about the population based on the sample data, and to make decisions based on those conclusions. \n",
    "# Hypothesis testing also provides a framework for testing and refining theories and hypotheses over time,helping to advance knowledge in a variety of \n",
    "# fields."
   ]
  },
  {
   "cell_type": "code",
   "execution_count": 4,
   "id": "da3d08c4-3c2c-4f03-a18c-fa7875a416ab",
   "metadata": {},
   "outputs": [],
   "source": [
    "# Q4. Create a hypothesis that states whether the average weight of male college students is greater than\n",
    "# the average weight of female college students.\n",
    "# Ans 4 =Here is an example hypothesis statement that compares the average weight of male college students to the average weight of female college students:\n",
    "# Null Hypothesis: The average weight of male college students is equal to or less than the average weight of female college students.\n",
    "# Alternative Hypothesis: The average weight of male college students is greater than the average weight of female college students.\n",
    "# To test this hypothesis, we could collect a random sample of male and female college students, record their weights, and conduct a hypothesis\n",
    "# test to determine whether the average weight of male students is statistically significantly greater than that of female students. The choice \n",
    "# of significance level (e.g., 0.05 or 0.01) would depend on the level of confidence we want in our conclusion."
   ]
  },
  {
   "cell_type": "code",
   "execution_count": 5,
   "id": "bb3d8e90-bfa5-4ed7-8b4d-6fb8c7118dd7",
   "metadata": {},
   "outputs": [
    {
     "name": "stdout",
     "output_type": "stream",
     "text": [
      "Sample 1 Mean: 10.15\n",
      "Sample 2 Mean: 11.99\n",
      "T-statistic: -4.58\n",
      "P-value: 0.00\n"
     ]
    }
   ],
   "source": [
    "# Q5. Write a Python script to conduct a hypothesis test on the difference between two population means,\n",
    "# given a sample from each population.\n",
    "# Ans 5=\n",
    "import numpy as np\n",
    "from scipy.stats import ttest_ind\n",
    "\n",
    "# generate two samples from two populations\n",
    "np.random.seed(1234) # set random seed for reproducibility\n",
    "sample1 = np.random.normal(10, 2, size=50)\n",
    "sample2 = np.random.normal(12, 2, size=50)\n",
    "\n",
    "# conduct two-sample t-test\n",
    "t_stat, p_val = ttest_ind(sample1, sample2)\n",
    "\n",
    "# print the results\n",
    "print(\"Sample 1 Mean: {:.2f}\".format(sample1.mean()))\n",
    "print(\"Sample 2 Mean: {:.2f}\".format(sample2.mean()))\n",
    "print(\"T-statistic: {:.2f}\".format(t_stat))\n",
    "print(\"P-value: {:.2f}\".format(p_val))\n"
   ]
  },
  {
   "cell_type": "code",
   "execution_count": 6,
   "id": "51f23980-c9b3-491a-94b5-deed52bc4298",
   "metadata": {},
   "outputs": [],
   "source": [
    "# Q6: What is a null and alternative hypothesis? Give some examples.\n",
    "# Ans 6=Null Hypothesis: The null hypothesis is a statement that assumes there is no significant difference or effect between two groups or variables.\n",
    "# We test the null hypothesis against the alternative hypothesis to determine whether there is enough evidence to reject it.\n",
    "# Alternative Hypothesis: The alternative hypothesis is a statement that contradicts the null hypothesis and assumes that there is a significant \n",
    "# difference or effect between two groups or variables. We test the alternative hypothesis against the null hypothesis to determine whether\n",
    "# there is enough evidence to support it.\n",
    "# Example 1: Null hypothesis - The average height of men and women in a population is the same.\n",
    "# Alternative hypothesis -The average height of men is significantly greater than the average height of women."
   ]
  },
  {
   "cell_type": "code",
   "execution_count": 9,
   "id": "e4a45a57-61bb-4e50-908e-22ca7fa03995",
   "metadata": {},
   "outputs": [],
   "source": [
    "# Q7: Write down the steps involved in hypothesis testing.\n",
    "# Ans 7= Here are the general steps involved in hypothesis testing:\n",
    "\n",
    "# State the hypotheses: Define the null and alternative hypotheses based on the research question or problem.\n",
    "\n",
    "# Set the level of significance: Determine the level of significance (alpha) for the test. This represents the maximum probability of rejecting \n",
    "# the null hypothesis when it is actually true.\n",
    "\n",
    "# Choose the appropriate test: Select the appropriate statistical test based on the research question, data type, and assumptions of the test.\n",
    "\n",
    "# Collect the data: Collect and analyze the data, calculate the relevant statistics (e.g., sample mean, sample standard deviation), \n",
    "# and perform any necessary transformations.\n",
    "\n",
    "# Compute the test statistic: Calculate the test statistic (e.g., t-statistic, z-statistic) based on the sample data and the null hypothesis."
   ]
  },
  {
   "cell_type": "code",
   "execution_count": 8,
   "id": "8e183416-0010-4684-8f5c-9f89a237318a",
   "metadata": {},
   "outputs": [],
   "source": [
    "# Q8. Define p-value and explain its significance in hypothesis testing.\n",
    "# Ans 8. The p value is a nnumber, calculated from a statistical test , that describe how likely you ar to have found a particular set of  \n",
    "# observation if the null hypothesis were true. P values are used in hypothesis testing to help decide whether to reject the hypothesis.\n",
    "# In hypothesis testing, the null hypothesis is a statement or assumption that there is no significant difference between two groups or variables\n",
    "# being compared. The alternative hypothesis is a statement that there is a significant difference between the two groups or variables. The p-value\n",
    "# is used to determine whether the null hypothesis should be rejected or not."
   ]
  },
  {
   "cell_type": "code",
   "execution_count": 1,
   "id": "2c1f9678-f5cc-41e8-9e80-113e31a5f0b9",
   "metadata": {},
   "outputs": [
    {
     "data": {
      "image/png": "[encoded data removed]",
      "text/plain": [
       "<Figure size 640x480 with 1 Axes>"
      ]
     },
     "metadata": {},
     "output_type": "display_data"
    }
   ],
   "source": [
    "# Q9. Generate a Student's t-distribution plot using Python's matplotlib library, with the degrees of freedom\n",
    "# parameter set to 10.\n",
    "# Ans 9=\n",
    "import numpy as np\n",
    "import matplotlib.pyplot as plt\n",
    "from scipy.stats import t\n",
    "\n",
    "df = 10  # degrees of freedom\n",
    "\n",
    "x = np.linspace(t.ppf(0.001, df), t.ppf(0.999, df), 1000)  # generate x-values\n",
    "\n",
    "plt.plot(x, t.pdf(x, df), 'r-', lw=2, alpha=0.6, label='t pdf')  # plot the pdf\n",
    "\n",
    "plt.legend(loc='best', frameon=False)  # add legend\n",
    "\n",
    "plt.show()  # display the plot\n"
   ]
  },
  {
   "cell_type": "code",
   "execution_count": 2,
   "id": "54b48408-6496-4847-8bdf-5a82a4bbf588",
   "metadata": {},
   "outputs": [
    {
     "name": "stdout",
     "output_type": "stream",
     "text": [
      "t-statistic:  -1.5194728674647868\n",
      "p-value:  0.13186328143871776\n"
     ]
    }
   ],
   "source": [
    "# Q10. Write a Python program to calculate the two-sample t-test for independent samples, given two\n",
    "# random samples of equal size and a null hypothesis that the population means are equal.\n",
    "# Ans 10\n",
    "import numpy as np\n",
    "from scipy.stats import ttest_ind\n",
    "\n",
    "# Generate two random samples of equal size\n",
    "sample1 = np.random.normal(loc=5, scale=2, size=50)\n",
    "sample2 = np.random.normal(loc=5.5, scale=2, size=50)\n",
    "\n",
    "# Calculate the t-statistic and p-value using the t-test for independent samples\n",
    "t_stat, p_value = ttest_ind(sample1, sample2)\n",
    "\n",
    "# Print the results\n",
    "print(\"t-statistic: \", t_stat)\n",
    "print(\"p-value: \", p_value)\n"
   ]
  },
  {
   "cell_type": "code",
   "execution_count": 3,
   "id": "ccf1cd24-0b36-476d-abd9-457c79e05970",
   "metadata": {},
   "outputs": [],
   "source": [
    "# Q11: What is Student’s t distribution? When to use the t-Distribution?\n",
    "# Ans11:The Student’s t-distribution is a probability distribution that is used to make inferences about the population mean \n",
    "# when the sample size is small (n < 30) or when the population standard deviation is unknown. It is similar to the normal distribution, \n",
    "# but has heavier tails, which makes it more suitable for small sample sizes. The t-distribution is also used in hypothesis testing and \n",
    "# confidence interval estimation.\n",
    "\n"
   ]
  },
  {
   "cell_type": "code",
   "execution_count": null,
   "id": "d4bc2cc4-705e-46c4-8eb1-2c8b1d7adde4",
   "metadata": {},
   "outputs": [],
   "source": [
    "# Q12: What is t-statistic? State the formula for t-statistic.\n",
    "# Ans 12:The t-statistic is a test statistic that is used to test hypotheses about the population mean when the population \n",
    "# standard deviation is unknown. It is calculated as the difference between the sample mean and the hypothesized population mean, \n",
    "# divided by the standard error of the sample mean. The formula for the t-statistic is:\n",
    "\n",
    "# t = (x̄ - μ) / (s / √n)\n",
    "\n",
    "# where x̄ is the sample mean, μ is the hypothesized population mean, s is the sample standard deviation, n is the sample size, \n",
    "# and √n is the square root of the sample size."
   ]
  },
  {
   "cell_type": "code",
   "execution_count": 1,
   "id": "d1824042-826a-4353-98fa-c51a93cacb9a",
   "metadata": {},
   "outputs": [],
   "source": [
    "# Q13. A coffee shop owner wants to estimate the average daily revenue for their shop. They take a random sample of 50 days \n",
    "# and find the sample mean revenue to be $500 with a standard deviation of $50. Estimate the population mean revenue with a 95% \n",
    "# confidence interval.\n",
    "\n",
    "# Ans 13:To estimate the population mean revenue with a 95% confidence interval, we can use the t-distribution since the sample size is \n",
    "# relatively small (n = 50).\n",
    "\n",
    "# The formula for a confidence interval for the population mean is:\n",
    "\n",
    "# CI = x̄ ± t* (s / √n)\n",
    "\n",
    "# where x̄ is the sample mean, s is the sample standard deviation, n is the sample size, and t* is the t-value that corresponds\n",
    "# to the desired confidence level and degrees of freedom (df = n - 1).\n",
    "\n",
    "# For a 95% confidence interval and df = 49, the t-value is 2.009.\n",
    "\n",
    "# Plugging in the values, we get:\n",
    "\n",
    "# CI = 500 ± 2.009 * (50 / √50) = (475.44, 524.56)\n",
    "\n",
    "# Therefore, we can be 95% confident that the population mean revenue is between $475.44 and $524.56."
   ]
  },
  {
   "cell_type": "code",
   "execution_count": 2,
   "id": "d7c8e7b1-21c9-472f-a56a-78ddcaf1b292",
   "metadata": {},
   "outputs": [],
   "source": [
    "# Q14. A researcher hypothesizes that a new drug will decrease blood pressure by 10 mmHg. They conduct a clinical trial with 100 patients\n",
    "# and find that the sample mean decrease in blood pressure is 8 mmHg with a standard deviation of 3 mmHg. Test the hypothesis with a\n",
    "# significance level of 0.05.\n",
    "\n",
    "# Ans14:To test the hypothesis, we will use a one-sample t-test. The null hypothesis is that the true mean decrease in blood pressure is \n",
    "# equal to 10 mmHg, while the alternative hypothesis is that the true mean decrease in blood pressure is less than 10 mmHg.\n",
    "\n",
    "# The test statistic is calculated as:\n",
    "\n",
    "# t = (x̄ - μ) / (s / √n)\n",
    "\n",
    "# where x̄ is the sample mean (8 mmHg), μ is the hypothesized population mean (10 mmHg), s is the sample standard deviation (3 mmHg), \n",
    "# and n is the sample size (100).\n",
    "\n",
    "# Plugging in the values, we get:\n",
    "\n",
    "# t = (8 - 10) / (3 / √100) = -2.67\n",
    "\n",
    "# The degrees of freedom for the t-distribution are n - 1 = 99.\n",
    "\n",
    "# Using a significance level of 0.05 and looking up the t-value in a t-distribution table with 99 degrees of freedom, we find the\n",
    "# critical value to be -1.660. Since our calculated t-value (-2.67) is less than the critical value, we reject the null hypothesis\n",
    "# and conclude that the new drug does decrease blood pressure by less than 10 mmHg, with 95% confidence."
   ]
  },
  {
   "cell_type": "code",
   "execution_count": null,
   "id": "359e43f4-4fc2-45ab-8e5f-ee15e68bca13",
   "metadata": {},
   "outputs": [],
   "source": [
    "# Q15. An electronics company produces a certain type of product with a mean weight of 5 pounds and a\n",
    "# standard deviation of 0.5 pounds. A random sample of 25 products is taken, and the sample mean weight\n",
    "# is found to be 4.8 pounds. Test the hypothesis that the true mean weight of the products is less than 5\n",
    "# pounds with a significance level of 0.01.\n",
    "# Ans15:To test the hypothesis that the true mean weight of the products is less than 5 pounds with a significance level of 0.01,\n",
    "# we can use a one-tailed t-test.\n",
    "\n",
    "# First, we need to define the null and alternative hypotheses:\n",
    "\n",
    "# Null hypothesis: The true mean weight of the products is equal to 5 pounds.\n",
    "# Alternative hypothesis: The true mean weight of the products is less than 5 pounds.\n",
    "\n",
    "# We can calculate the t-statistic using the formula:\n",
    "\n",
    "# t = (sample mean - hypothesized mean) / (standard deviation / sqrt(sample size))\n",
    "\n",
    "# Where:\n",
    "# sample mean = 4.8 pounds\n",
    "# hypothesized mean = 5 pounds\n",
    "# standard deviation = 0.5 pounds\n",
    "# sample size = 25\n",
    "\n",
    "# Plugging in the values, we get:\n",
    "\n",
    "# t = (4.8 - 5) / (0.5 / sqrt(25)) = -2\n",
    "\n",
    "# The degrees of freedom for this test are (sample size - 1) = 24. Using a t-distribution table or a calculator, we can find the \n",
    "# critical value for a one-tailed test with a significance level of 0.01 and 24 degrees of freedom to be -2.492.\n",
    "\n",
    "# Since the calculated t-value (-2) is less than the critical value (-2.492), we can reject the null hypothesis and conclude\n",
    "# that there is evidence to support the alternative hypothesis that the true mean weight of the products is less than 5 pounds."
   ]
  },
  {
   "cell_type": "code",
   "execution_count": null,
   "id": "ff60d488-7f37-41b9-be3f-7c940b67b7fe",
   "metadata": {},
   "outputs": [],
   "source": [
    "# Q16. Two groups of students are given different study materials to prepare for a test. The first group (n1 =\n",
    "# 30) has a mean score of 80 with a standard deviation of 10, and the second group (n2 = 40) has a mean\n",
    "# score of 75 with a standard deviation of 8. Test the hypothesis that the population means for the two\n",
    "# groups are equal with a significance level of 0.01.\n",
    "\n",
    "# Ans16:To test the hypothesis that the population means for the two groups are equal, we can use a two-sample t-test with the following \n",
    "# null and alternative hypotheses:\n",
    "\n",
    "# Null hypothesis: μ1 = μ2 (the population means are equal)\n",
    "# Alternative hypothesis: μ1 ≠ μ2 (the population means are not equal)\n",
    "\n",
    "# Using a significance level of 0.01 and assuming unequal variances, we can calculate the t-statistic and compare it to the critical\n",
    "# t-value from the t-distribution with (n1+n2-2) degrees of freedom.\n",
    "\n",
    "# The formula for the t-statistic in this case is:\n",
    "\n",
    "# t = (x̄1 - x̄2) / sqrt[ (s1^2/n1) + (s2^2/n2) ]\n",
    "\n",
    "# where x̄1 and x̄2 are the sample means, s1 and s2 are the sample standard deviations, and n1 and n2 are the sample sizes for the two groups.\n",
    "\n",
    "# Plugging in the values given, we get:\n",
    "\n",
    "# t = (80 - 75) / sqrt[ (10^2/30) + (8^2/40) ] = 2.08\n",
    "\n",
    "# Using a two-tailed test with a significance level of 0.01 and (n1+n2-2) = 68 degrees of freedom, we find the critical t-value to be ±2.625.\n",
    "\n",
    "# Since our calculated t-value (2.08) does not exceed the critical t-value (2.625), we fail to reject the null hypothesis and conclude \n",
    "# that there is not enough evidence to suggest that the population means for the two groups are different at a significance level of 0.01.\n",
    "\n"
   ]
  },
  {
   "cell_type": "code",
   "execution_count": null,
   "id": "3d10e879-92f1-4bd8-a4ff-8b41c49e83c0",
   "metadata": {},
   "outputs": [],
   "source": [
    "# Q17. A marketing company wants to estimate the average number of ads watched by viewers during a TV\n",
    "# program. They take a random sample of 50 viewers and find that the sample mean is 4 with a standard\n",
    "# deviation of 1.5. Estimate the population mean with a 99% confidence interval.\n",
    "# Ans17. To estimate the population mean with a 99% confidence interval, we can use the following formula:\n",
    "\n",
    "# CI = x̄ ± tα/2 * (s / sqrt(n))\n",
    "\n",
    "# where x̄ is the sample mean, s is the sample standard deviation, n is the sample size, tα/2 is the critical t-value from \n",
    "# the t-distribution with (n-1) degrees of freedom at the desired confidence level, and CI is the confidence interval.\n",
    "\n",
    "# Plugging in the values given, we get:\n",
    "\n",
    "# CI = 4 ± (2.681 * (1.5 / sqrt(50))) = (3.659, 4.341)\n",
    "\n",
    "# Therefore, we can say with 99% confidence that the true population mean number of ads watched by viewers during a TV program \n",
    "# falls between 3.659 and 4.341."
   ]
  }
 ],
 "metadata": {
  "kernelspec": {
   "display_name": "Python 3 (ipykernel)",
   "language": "python",
   "name": "python3"
  },
  "language_info": {
   "codemirror_mode": {
    "name": "ipython",
    "version": 3
   },
   "file_extension": ".py",
   "mimetype": "text/x-python",
   "name": "python",
   "nbconvert_exporter": "python",
   "pygments_lexer": "ipython3",
   "version": "3.10.6"
  }
 },
 "nbformat": 4,
 "nbformat_minor": 5
}
